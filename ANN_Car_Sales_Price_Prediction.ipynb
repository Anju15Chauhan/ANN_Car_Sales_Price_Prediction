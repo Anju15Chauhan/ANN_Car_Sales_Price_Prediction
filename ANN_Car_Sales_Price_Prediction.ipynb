{
  "nbformat": 4,
  "nbformat_minor": 0,
  "metadata": {
    "colab": {
      "provenance": []
    },
    "kernelspec": {
      "name": "python3",
      "display_name": "Python 3"
    },
    "language_info": {
      "name": "python"
    }
  },
  "cells": [
    {
      "cell_type": "markdown",
      "source": [
        "# **ANN:-**\n",
        "Artificial neural network (ANN) is **a machine learning algorithm that uses a network of artificial neurons to mimic the human brain's structure and function.** ANNs are made up of layers of interconnected nodes that process data to solve problems:\n",
        "\n",
        "* **Input layer:** Receives data from the outside world and processes it.\n",
        "\n",
        "* **Hidden layers:** Analyze the output from the previous layer and pass it on to the next.\n",
        "\n",
        "* **Output layer:** Provides the final result of the data processing"
      ],
      "metadata": {
        "id": "P19_IvRx2GOX"
      }
    },
    {
      "cell_type": "markdown",
      "source": [
        "![images.jpg](data:image/jpeg;base64,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)"
      ],
      "metadata": {
        "id": "l4OdMXnf35VF"
      }
    },
    {
      "cell_type": "markdown",
      "source": [
        "# **About Dataset**\n",
        "**Main Context:-**\n",
        "\n",
        "As a vehicle salesperson, you would like to create a model that can estimate the overall amount that consumers would spend given the following characteristics:\n",
        "customer name, customer email, country, gender, age, annual salary, credit card debt, and net worth\n",
        "\n",
        "## **The model should anticipate the following (Problem Statement):**\n",
        "\n",
        "**Amount Paid for a Car**\n",
        "\n",
        "## **Task type:**\n",
        "Regression\n",
        "\n",
        "## **Algorithm:**\n",
        "The given problem statement can be solved using Machine Learning or Deep Learning Techniques\n",
        "\n",
        "\n"
      ],
      "metadata": {
        "id": "FUwubIpn1BXg"
      }
    },
    {
      "cell_type": "markdown",
      "source": [
        "# **Step 1: Import Libraries**\n",
        "We need libraries for data manipulation, preprocessing, and building the ANN."
      ],
      "metadata": {
        "id": "6F66S0pf4-5v"
      }
    },
    {
      "cell_type": "code",
      "execution_count": 1,
      "metadata": {
        "id": "MGLRTNSX01kL"
      },
      "outputs": [],
      "source": [
        "import pandas as pd\n",
        "import numpy as np\n",
        "from sklearn.model_selection import train_test_split\n",
        "from sklearn.preprocessing import MinMaxScaler\n",
        "from tensorflow.keras.models import Sequential\n",
        "from tensorflow.keras.layers import Dense\n"
      ]
    },
    {
      "cell_type": "markdown",
      "source": [
        "# **Step 2: Load and Preprocess the Dataset**\n",
        "**1. Drop unnecessary columns:** Remove irrelevant columns like customer name and customer e-mail.\n",
        "\n",
        "**2. Encode categorical data:** Convert the country column into numerical form using one-hot encoding.\n",
        "\n",
        "**3. Normalize numerical features:** Use Min-Max Scaling to scale features between 0 and 1 for better ANN performance."
      ],
      "metadata": {
        "id": "wRdV9H0r5b_-"
      }
    },
    {
      "cell_type": "code",
      "source": [
        "# Load dataset\n",
        "data = pd.read_csv('car_purchasing.csv', encoding='ISO-8859-1')\n",
        "\n",
        "# Drop unnecessary columns\n",
        "data_cleaned = data.drop(['customer name', 'customer e-mail'], axis=1)\n",
        "\n",
        "# One-hot encode the 'country' column\n",
        "data_encoded = pd.get_dummies(data_cleaned, columns=['country'], drop_first=True)\n",
        "\n",
        "# Separate features and target variable\n",
        "X = data_encoded.drop('car purchase amount', axis=1)\n",
        "y = data_encoded['car purchase amount']\n",
        "\n",
        "# Normalize features\n",
        "scaler = MinMaxScaler()\n",
        "X_scaled = pd.DataFrame(scaler.fit_transform(X), columns=X.columns)\n"
      ],
      "metadata": {
        "id": "Z-XEzBlk5F5c"
      },
      "execution_count": 3,
      "outputs": []
    },
    {
      "cell_type": "markdown",
      "source": [
        "# **Step 3: Split Data into Training and Testing Sets**\n",
        "We split the data into training and testing sets to evaluate the model's performance on unseen data."
      ],
      "metadata": {
        "id": "EGZN3Qo058XW"
      }
    },
    {
      "cell_type": "code",
      "source": [
        "X_train, X_test, y_train, y_test = train_test_split(X_scaled, y, test_size=0.2, random_state=42)\n"
      ],
      "metadata": {
        "id": "gWfqBUJ751FJ"
      },
      "execution_count": 4,
      "outputs": []
    },
    {
      "cell_type": "markdown",
      "source": [
        "# **Step 4: Define the ANN Architecture**\n",
        "1. **Input Layer:** Matches the number of features in X_train.\n",
        "\n",
        "2. **Hidden Layers:** Add dense layers with ReLU activation to learn complex patterns.\n",
        "\n",
        "3. **Output Layer:** A single neuron with linear activation for regression."
      ],
      "metadata": {
        "id": "omaCh_r56FCT"
      }
    },
    {
      "cell_type": "code",
      "source": [
        "model = Sequential([\n",
        "    Dense(128, input_dim=X_train.shape[1], activation='relu'),  # Input and first hidden layer\n",
        "    Dense(64, activation='relu'),                              # Second hidden layer\n",
        "    Dense(1, activation='linear')                              # Output layer for regression\n",
        "])\n"
      ],
      "metadata": {
        "colab": {
          "base_uri": "https://localhost:8080/"
        },
        "id": "GTjJ1bZ-6DMs",
        "outputId": "c1c84adc-790c-4454-a845-d161de0d0e10"
      },
      "execution_count": 5,
      "outputs": [
        {
          "output_type": "stream",
          "name": "stderr",
          "text": [
            "/usr/local/lib/python3.10/dist-packages/keras/src/layers/core/dense.py:87: UserWarning: Do not pass an `input_shape`/`input_dim` argument to a layer. When using Sequential models, prefer using an `Input(shape)` object as the first layer in the model instead.\n",
            "  super().__init__(activity_regularizer=activity_regularizer, **kwargs)\n"
          ]
        }
      ]
    },
    {
      "cell_type": "markdown",
      "source": [
        "# **Step 5: Compile the Model**\n",
        "## Define:\n",
        "\n",
        "* **Optimizer:** Adam optimizer for adaptive learning rates.\n",
        "\n",
        "* **Loss Function:** Mean Squared Error for regression.\n",
        "\n",
        "* **Metrics:** Mean Absolute Error for evaluation."
      ],
      "metadata": {
        "id": "NN6wPLYe6hIP"
      }
    },
    {
      "cell_type": "code",
      "source": [
        "model.compile(optimizer='adam', loss='mean_squared_error', metrics=['mean_absolute_error'])\n"
      ],
      "metadata": {
        "id": "5fxtFOWM6ezD"
      },
      "execution_count": 6,
      "outputs": []
    },
    {
      "cell_type": "markdown",
      "source": [
        "# **Step 6: Train the Model**\n",
        " Using a validation split to monitor performance during training."
      ],
      "metadata": {
        "id": "wv7iHLor7FQv"
      }
    },
    {
      "cell_type": "code",
      "source": [
        "history = model.fit(X_train, y_train, validation_split=0.2, epochs=50, batch_size=32, verbose=1)\n"
      ],
      "metadata": {
        "colab": {
          "base_uri": "https://localhost:8080/"
        },
        "id": "0ps6Xvlk6-F9",
        "outputId": "1825be50-d65a-4fc7-f101-d76d09a5415b"
      },
      "execution_count": 7,
      "outputs": [
        {
          "output_type": "stream",
          "name": "stdout",
          "text": [
            "Epoch 1/50\n",
            "\u001b[1m10/10\u001b[0m \u001b[32m━━━━━━━━━━━━━━━━━━━━\u001b[0m\u001b[37m\u001b[0m \u001b[1m1s\u001b[0m 23ms/step - loss: 2037523584.0000 - mean_absolute_error: 43843.8633 - val_loss: 1938659072.0000 - val_mean_absolute_error: 42925.1875\n",
            "Epoch 2/50\n",
            "\u001b[1m10/10\u001b[0m \u001b[32m━━━━━━━━━━━━━━━━━━━━\u001b[0m\u001b[37m\u001b[0m \u001b[1m0s\u001b[0m 5ms/step - loss: 2025899904.0000 - mean_absolute_error: 43572.5664 - val_loss: 1938570240.0000 - val_mean_absolute_error: 42924.1641\n",
            "Epoch 3/50\n",
            "\u001b[1m10/10\u001b[0m \u001b[32m━━━━━━━━━━━━━━━━━━━━\u001b[0m\u001b[37m\u001b[0m \u001b[1m0s\u001b[0m 7ms/step - loss: 2073142272.0000 - mean_absolute_error: 44233.6953 - val_loss: 1938420096.0000 - val_mean_absolute_error: 42922.4453\n",
            "Epoch 4/50\n",
            "\u001b[1m10/10\u001b[0m \u001b[32m━━━━━━━━━━━━━━━━━━━━\u001b[0m\u001b[37m\u001b[0m \u001b[1m0s\u001b[0m 7ms/step - loss: 2067689344.0000 - mean_absolute_error: 44184.2852 - val_loss: 1938157952.0000 - val_mean_absolute_error: 42919.4375\n",
            "Epoch 5/50\n",
            "\u001b[1m10/10\u001b[0m \u001b[32m━━━━━━━━━━━━━━━━━━━━\u001b[0m\u001b[37m\u001b[0m \u001b[1m0s\u001b[0m 6ms/step - loss: 2045832064.0000 - mean_absolute_error: 43960.4297 - val_loss: 1937726208.0000 - val_mean_absolute_error: 42914.4844\n",
            "Epoch 6/50\n",
            "\u001b[1m10/10\u001b[0m \u001b[32m━━━━━━━━━━━━━━━━━━━━\u001b[0m\u001b[37m\u001b[0m \u001b[1m0s\u001b[0m 5ms/step - loss: 2108952192.0000 - mean_absolute_error: 44627.7383 - val_loss: 1937053696.0000 - val_mean_absolute_error: 42906.7734\n",
            "Epoch 7/50\n",
            "\u001b[1m10/10\u001b[0m \u001b[32m━━━━━━━━━━━━━━━━━━━━\u001b[0m\u001b[37m\u001b[0m \u001b[1m0s\u001b[0m 5ms/step - loss: 2130992128.0000 - mean_absolute_error: 44724.4453 - val_loss: 1936068352.0000 - val_mean_absolute_error: 42895.4766\n",
            "Epoch 8/50\n",
            "\u001b[1m10/10\u001b[0m \u001b[32m━━━━━━━━━━━━━━━━━━━━\u001b[0m\u001b[37m\u001b[0m \u001b[1m0s\u001b[0m 7ms/step - loss: 2025208320.0000 - mean_absolute_error: 43607.6992 - val_loss: 1934685952.0000 - val_mean_absolute_error: 42879.6172\n",
            "Epoch 9/50\n",
            "\u001b[1m10/10\u001b[0m \u001b[32m━━━━━━━━━━━━━━━━━━━━\u001b[0m\u001b[37m\u001b[0m \u001b[1m0s\u001b[0m 6ms/step - loss: 2131251840.0000 - mean_absolute_error: 44793.3281 - val_loss: 1932822912.0000 - val_mean_absolute_error: 42858.2500\n",
            "Epoch 10/50\n",
            "\u001b[1m10/10\u001b[0m \u001b[32m━━━━━━━━━━━━━━━━━━━━\u001b[0m\u001b[37m\u001b[0m \u001b[1m0s\u001b[0m 5ms/step - loss: 2072708992.0000 - mean_absolute_error: 44143.2969 - val_loss: 1930403456.0000 - val_mean_absolute_error: 42830.4688\n",
            "Epoch 11/50\n",
            "\u001b[1m10/10\u001b[0m \u001b[32m━━━━━━━━━━━━━━━━━━━━\u001b[0m\u001b[37m\u001b[0m \u001b[1m0s\u001b[0m 8ms/step - loss: 2112058752.0000 - mean_absolute_error: 44576.3711 - val_loss: 1927318912.0000 - val_mean_absolute_error: 42795.0234\n",
            "Epoch 12/50\n",
            "\u001b[1m10/10\u001b[0m \u001b[32m━━━━━━━━━━━━━━━━━━━━\u001b[0m\u001b[37m\u001b[0m \u001b[1m0s\u001b[0m 6ms/step - loss: 2135083264.0000 - mean_absolute_error: 44952.4805 - val_loss: 1923517184.0000 - val_mean_absolute_error: 42751.3125\n",
            "Epoch 13/50\n",
            "\u001b[1m10/10\u001b[0m \u001b[32m━━━━━━━━━━━━━━━━━━━━\u001b[0m\u001b[37m\u001b[0m \u001b[1m0s\u001b[0m 7ms/step - loss: 2035391360.0000 - mean_absolute_error: 43729.2500 - val_loss: 1918917248.0000 - val_mean_absolute_error: 42698.3633\n",
            "Epoch 14/50\n",
            "\u001b[1m10/10\u001b[0m \u001b[32m━━━━━━━━━━━━━━━━━━━━\u001b[0m\u001b[37m\u001b[0m \u001b[1m0s\u001b[0m 5ms/step - loss: 2046773504.0000 - mean_absolute_error: 43778.6484 - val_loss: 1913427328.0000 - val_mean_absolute_error: 42635.0781\n",
            "Epoch 15/50\n",
            "\u001b[1m10/10\u001b[0m \u001b[32m━━━━━━━━━━━━━━━━━━━━\u001b[0m\u001b[37m\u001b[0m \u001b[1m0s\u001b[0m 6ms/step - loss: 2040442752.0000 - mean_absolute_error: 43747.4219 - val_loss: 1906949120.0000 - val_mean_absolute_error: 42560.2578\n",
            "Epoch 16/50\n",
            "\u001b[1m10/10\u001b[0m \u001b[32m━━━━━━━━━━━━━━━━━━━━\u001b[0m\u001b[37m\u001b[0m \u001b[1m0s\u001b[0m 5ms/step - loss: 2046871040.0000 - mean_absolute_error: 43861.0820 - val_loss: 1899391232.0000 - val_mean_absolute_error: 42472.8203\n",
            "Epoch 17/50\n",
            "\u001b[1m10/10\u001b[0m \u001b[32m━━━━━━━━━━━━━━━━━━━━\u001b[0m\u001b[37m\u001b[0m \u001b[1m0s\u001b[0m 8ms/step - loss: 2016279168.0000 - mean_absolute_error: 43552.1445 - val_loss: 1890704640.0000 - val_mean_absolute_error: 42372.1016\n",
            "Epoch 18/50\n",
            "\u001b[1m10/10\u001b[0m \u001b[32m━━━━━━━━━━━━━━━━━━━━\u001b[0m\u001b[37m\u001b[0m \u001b[1m0s\u001b[0m 7ms/step - loss: 1994745216.0000 - mean_absolute_error: 43256.0039 - val_loss: 1880832768.0000 - val_mean_absolute_error: 42257.3477\n",
            "Epoch 19/50\n",
            "\u001b[1m10/10\u001b[0m \u001b[32m━━━━━━━━━━━━━━━━━━━━\u001b[0m\u001b[37m\u001b[0m \u001b[1m0s\u001b[0m 6ms/step - loss: 1937828480.0000 - mean_absolute_error: 42644.1094 - val_loss: 1869726080.0000 - val_mean_absolute_error: 42127.8672\n",
            "Epoch 20/50\n",
            "\u001b[1m10/10\u001b[0m \u001b[32m━━━━━━━━━━━━━━━━━━━━\u001b[0m\u001b[37m\u001b[0m \u001b[1m0s\u001b[0m 8ms/step - loss: 2005555840.0000 - mean_absolute_error: 43312.5039 - val_loss: 1857187456.0000 - val_mean_absolute_error: 41981.2109\n",
            "Epoch 21/50\n",
            "\u001b[1m10/10\u001b[0m \u001b[32m━━━━━━━━━━━━━━━━━━━━\u001b[0m\u001b[37m\u001b[0m \u001b[1m0s\u001b[0m 9ms/step - loss: 2010537856.0000 - mean_absolute_error: 43373.1445 - val_loss: 1843219712.0000 - val_mean_absolute_error: 41817.1797\n",
            "Epoch 22/50\n",
            "\u001b[1m10/10\u001b[0m \u001b[32m━━━━━━━━━━━━━━━━━━━━\u001b[0m\u001b[37m\u001b[0m \u001b[1m0s\u001b[0m 7ms/step - loss: 1986332672.0000 - mean_absolute_error: 43230.9023 - val_loss: 1827856000.0000 - val_mean_absolute_error: 41636.0625\n",
            "Epoch 23/50\n",
            "\u001b[1m10/10\u001b[0m \u001b[32m━━━━━━━━━━━━━━━━━━━━\u001b[0m\u001b[37m\u001b[0m \u001b[1m0s\u001b[0m 6ms/step - loss: 1944870656.0000 - mean_absolute_error: 42677.2109 - val_loss: 1810989824.0000 - val_mean_absolute_error: 41436.3008\n",
            "Epoch 24/50\n",
            "\u001b[1m10/10\u001b[0m \u001b[32m━━━━━━━━━━━━━━━━━━━━\u001b[0m\u001b[37m\u001b[0m \u001b[1m0s\u001b[0m 5ms/step - loss: 1976960896.0000 - mean_absolute_error: 43050.0586 - val_loss: 1792480256.0000 - val_mean_absolute_error: 41215.9609\n",
            "Epoch 25/50\n",
            "\u001b[1m10/10\u001b[0m \u001b[32m━━━━━━━━━━━━━━━━━━━━\u001b[0m\u001b[37m\u001b[0m \u001b[1m0s\u001b[0m 6ms/step - loss: 1981897216.0000 - mean_absolute_error: 43234.2617 - val_loss: 1772473344.0000 - val_mean_absolute_error: 40976.4258\n",
            "Epoch 26/50\n",
            "\u001b[1m10/10\u001b[0m \u001b[32m━━━━━━━━━━━━━━━━━━━━\u001b[0m\u001b[37m\u001b[0m \u001b[1m0s\u001b[0m 6ms/step - loss: 1854900352.0000 - mean_absolute_error: 41499.7109 - val_loss: 1750986496.0000 - val_mean_absolute_error: 40717.5898\n",
            "Epoch 27/50\n",
            "\u001b[1m10/10\u001b[0m \u001b[32m━━━━━━━━━━━━━━━━━━━━\u001b[0m\u001b[37m\u001b[0m \u001b[1m0s\u001b[0m 8ms/step - loss: 1923507200.0000 - mean_absolute_error: 42412.9180 - val_loss: 1727563008.0000 - val_mean_absolute_error: 40433.5508\n",
            "Epoch 28/50\n",
            "\u001b[1m10/10\u001b[0m \u001b[32m━━━━━━━━━━━━━━━━━━━━\u001b[0m\u001b[37m\u001b[0m \u001b[1m0s\u001b[0m 7ms/step - loss: 1821734144.0000 - mean_absolute_error: 41331.7422 - val_loss: 1702735616.0000 - val_mean_absolute_error: 40130.2266\n",
            "Epoch 29/50\n",
            "\u001b[1m10/10\u001b[0m \u001b[32m━━━━━━━━━━━━━━━━━━━━\u001b[0m\u001b[37m\u001b[0m \u001b[1m0s\u001b[0m 8ms/step - loss: 1832336128.0000 - mean_absolute_error: 41387.9062 - val_loss: 1676038784.0000 - val_mean_absolute_error: 39801.5781\n",
            "Epoch 30/50\n",
            "\u001b[1m10/10\u001b[0m \u001b[32m━━━━━━━━━━━━━━━━━━━━\u001b[0m\u001b[37m\u001b[0m \u001b[1m0s\u001b[0m 7ms/step - loss: 1765244672.0000 - mean_absolute_error: 40652.7266 - val_loss: 1647787648.0000 - val_mean_absolute_error: 39450.6328\n",
            "Epoch 31/50\n",
            "\u001b[1m10/10\u001b[0m \u001b[32m━━━━━━━━━━━━━━━━━━━━\u001b[0m\u001b[37m\u001b[0m \u001b[1m0s\u001b[0m 6ms/step - loss: 1756603776.0000 - mean_absolute_error: 40412.6094 - val_loss: 1617775360.0000 - val_mean_absolute_error: 39074.4766\n",
            "Epoch 32/50\n",
            "\u001b[1m10/10\u001b[0m \u001b[32m━━━━━━━━━━━━━━━━━━━━\u001b[0m\u001b[37m\u001b[0m \u001b[1m0s\u001b[0m 6ms/step - loss: 1794719360.0000 - mean_absolute_error: 40859.2266 - val_loss: 1586059648.0000 - val_mean_absolute_error: 38672.7734\n",
            "Epoch 33/50\n",
            "\u001b[1m10/10\u001b[0m \u001b[32m━━━━━━━━━━━━━━━━━━━━\u001b[0m\u001b[37m\u001b[0m \u001b[1m0s\u001b[0m 6ms/step - loss: 1744631552.0000 - mean_absolute_error: 40316.3086 - val_loss: 1552710912.0000 - val_mean_absolute_error: 38245.9336\n",
            "Epoch 34/50\n",
            "\u001b[1m10/10\u001b[0m \u001b[32m━━━━━━━━━━━━━━━━━━━━\u001b[0m\u001b[37m\u001b[0m \u001b[1m0s\u001b[0m 6ms/step - loss: 1669982208.0000 - mean_absolute_error: 39460.7500 - val_loss: 1518079872.0000 - val_mean_absolute_error: 37797.5234\n",
            "Epoch 35/50\n",
            "\u001b[1m10/10\u001b[0m \u001b[32m━━━━━━━━━━━━━━━━━━━━\u001b[0m\u001b[37m\u001b[0m \u001b[1m0s\u001b[0m 5ms/step - loss: 1706931712.0000 - mean_absolute_error: 39926.7188 - val_loss: 1481641600.0000 - val_mean_absolute_error: 37319.8125\n",
            "Epoch 36/50\n",
            "\u001b[1m10/10\u001b[0m \u001b[32m━━━━━━━━━━━━━━━━━━━━\u001b[0m\u001b[37m\u001b[0m \u001b[1m0s\u001b[0m 7ms/step - loss: 1535941760.0000 - mean_absolute_error: 37697.8320 - val_loss: 1444261120.0000 - val_mean_absolute_error: 36823.1953\n",
            "Epoch 37/50\n",
            "\u001b[1m10/10\u001b[0m \u001b[32m━━━━━━━━━━━━━━━━━━━━\u001b[0m\u001b[37m\u001b[0m \u001b[1m0s\u001b[0m 6ms/step - loss: 1561289856.0000 - mean_absolute_error: 38083.2148 - val_loss: 1405221632.0000 - val_mean_absolute_error: 36297.3047\n",
            "Epoch 38/50\n",
            "\u001b[1m10/10\u001b[0m \u001b[32m━━━━━━━━━━━━━━━━━━━━\u001b[0m\u001b[37m\u001b[0m \u001b[1m0s\u001b[0m 7ms/step - loss: 1531541504.0000 - mean_absolute_error: 37688.7383 - val_loss: 1364683392.0000 - val_mean_absolute_error: 35742.9453\n",
            "Epoch 39/50\n",
            "\u001b[1m10/10\u001b[0m \u001b[32m━━━━━━━━━━━━━━━━━━━━\u001b[0m\u001b[37m\u001b[0m \u001b[1m0s\u001b[0m 6ms/step - loss: 1409997184.0000 - mean_absolute_error: 35904.3320 - val_loss: 1323315072.0000 - val_mean_absolute_error: 35168.0859\n",
            "Epoch 40/50\n",
            "\u001b[1m10/10\u001b[0m \u001b[32m━━━━━━━━━━━━━━━━━━━━\u001b[0m\u001b[37m\u001b[0m \u001b[1m0s\u001b[0m 6ms/step - loss: 1442537216.0000 - mean_absolute_error: 36330.6211 - val_loss: 1280541184.0000 - val_mean_absolute_error: 34563.5859\n",
            "Epoch 41/50\n",
            "\u001b[1m10/10\u001b[0m \u001b[32m━━━━━━━━━━━━━━━━━━━━\u001b[0m\u001b[37m\u001b[0m \u001b[1m0s\u001b[0m 6ms/step - loss: 1403609600.0000 - mean_absolute_error: 35836.2031 - val_loss: 1236711424.0000 - val_mean_absolute_error: 33933.0078\n",
            "Epoch 42/50\n",
            "\u001b[1m10/10\u001b[0m \u001b[32m━━━━━━━━━━━━━━━━━━━━\u001b[0m\u001b[37m\u001b[0m \u001b[1m0s\u001b[0m 6ms/step - loss: 1355566208.0000 - mean_absolute_error: 35277.3047 - val_loss: 1192244992.0000 - val_mean_absolute_error: 33280.9062\n",
            "Epoch 43/50\n",
            "\u001b[1m10/10\u001b[0m \u001b[32m━━━━━━━━━━━━━━━━━━━━\u001b[0m\u001b[37m\u001b[0m \u001b[1m0s\u001b[0m 6ms/step - loss: 1294409088.0000 - mean_absolute_error: 34448.2891 - val_loss: 1147079424.0000 - val_mean_absolute_error: 32604.9902\n",
            "Epoch 44/50\n",
            "\u001b[1m10/10\u001b[0m \u001b[32m━━━━━━━━━━━━━━━━━━━━\u001b[0m\u001b[37m\u001b[0m \u001b[1m0s\u001b[0m 5ms/step - loss: 1247683072.0000 - mean_absolute_error: 33898.7344 - val_loss: 1101293312.0000 - val_mean_absolute_error: 31904.9316\n",
            "Epoch 45/50\n",
            "\u001b[1m10/10\u001b[0m \u001b[32m━━━━━━━━━━━━━━━━━━━━\u001b[0m\u001b[37m\u001b[0m \u001b[1m0s\u001b[0m 6ms/step - loss: 1190202240.0000 - mean_absolute_error: 32975.9102 - val_loss: 1055205568.0000 - val_mean_absolute_error: 31184.4785\n",
            "Epoch 46/50\n",
            "\u001b[1m10/10\u001b[0m \u001b[32m━━━━━━━━━━━━━━━━━━━━\u001b[0m\u001b[37m\u001b[0m \u001b[1m0s\u001b[0m 7ms/step - loss: 1143724288.0000 - mean_absolute_error: 32287.3008 - val_loss: 1008674432.0000 - val_mean_absolute_error: 30439.4414\n",
            "Epoch 47/50\n",
            "\u001b[1m10/10\u001b[0m \u001b[32m━━━━━━━━━━━━━━━━━━━━\u001b[0m\u001b[37m\u001b[0m \u001b[1m0s\u001b[0m 8ms/step - loss: 1072394176.0000 - mean_absolute_error: 31234.3945 - val_loss: 962210688.0000 - val_mean_absolute_error: 29676.3320\n",
            "Epoch 48/50\n",
            "\u001b[1m10/10\u001b[0m \u001b[32m━━━━━━━━━━━━━━━━━━━━\u001b[0m\u001b[37m\u001b[0m \u001b[1m0s\u001b[0m 7ms/step - loss: 1060758912.0000 - mean_absolute_error: 30833.8145 - val_loss: 915358336.0000 - val_mean_absolute_error: 28886.6191\n",
            "Epoch 49/50\n",
            "\u001b[1m10/10\u001b[0m \u001b[32m━━━━━━━━━━━━━━━━━━━━\u001b[0m\u001b[37m\u001b[0m \u001b[1m0s\u001b[0m 9ms/step - loss: 1026422720.0000 - mean_absolute_error: 30360.0527 - val_loss: 868973696.0000 - val_mean_absolute_error: 28082.2969\n",
            "Epoch 50/50\n",
            "\u001b[1m10/10\u001b[0m \u001b[32m━━━━━━━━━━━━━━━━━━━━\u001b[0m\u001b[37m\u001b[0m \u001b[1m0s\u001b[0m 8ms/step - loss: 953704704.0000 - mean_absolute_error: 29070.3184 - val_loss: 823010880.0000 - val_mean_absolute_error: 27261.9492\n"
          ]
        }
      ]
    },
    {
      "cell_type": "markdown",
      "source": [
        "# **Step 7: Evaluate the Model**\n",
        "Test the model on the unseen test set and calculate performance metrics."
      ],
      "metadata": {
        "id": "CDuKum5h7Vh3"
      }
    },
    {
      "cell_type": "code",
      "source": [
        "loss, mae = model.evaluate(X_test, y_test)\n",
        "print(f\"Test Loss: {loss}, Test MAE: {mae}\")\n"
      ],
      "metadata": {
        "colab": {
          "base_uri": "https://localhost:8080/"
        },
        "id": "Pn5UpBnS7Po7",
        "outputId": "bac3f1b1-7c42-4401-8e08-73b1b60cefa8"
      },
      "execution_count": 8,
      "outputs": [
        {
          "output_type": "stream",
          "name": "stdout",
          "text": [
            "\u001b[1m4/4\u001b[0m \u001b[32m━━━━━━━━━━━━━━━━━━━━\u001b[0m\u001b[37m\u001b[0m \u001b[1m0s\u001b[0m 4ms/step - loss: 1026221440.0000 - mean_absolute_error: 30445.4863  \n",
            "Test Loss: 986135488.0, Test MAE: 29818.955078125\n"
          ]
        }
      ]
    },
    {
      "cell_type": "markdown",
      "source": [
        "# **Step 8: Make Predictions**\n",
        "Use the trained model to predict car sale prices for the test set."
      ],
      "metadata": {
        "id": "ikh7x5Zy7eo_"
      }
    },
    {
      "cell_type": "code",
      "source": [
        "y_pred = model.predict(X_test)\n"
      ],
      "metadata": {
        "colab": {
          "base_uri": "https://localhost:8080/"
        },
        "id": "bnOe8bfZ7avE",
        "outputId": "363819d7-8342-460b-89e2-101a469d5bfe"
      },
      "execution_count": 9,
      "outputs": [
        {
          "output_type": "stream",
          "name": "stdout",
          "text": [
            "\u001b[1m4/4\u001b[0m \u001b[32m━━━━━━━━━━━━━━━━━━━━\u001b[0m\u001b[37m\u001b[0m \u001b[1m0s\u001b[0m 20ms/step\n"
          ]
        }
      ]
    },
    {
      "cell_type": "markdown",
      "source": [
        "# **Step 9: Visualize Training Performance**\n",
        "Plot loss and metrics over epochs to evaluate training and validation performance."
      ],
      "metadata": {
        "id": "lbB9q3FU7oAp"
      }
    },
    {
      "cell_type": "code",
      "source": [
        "import matplotlib.pyplot as plt\n",
        "\n",
        "# Plot training and validation loss\n",
        "plt.plot(history.history['loss'], label='Training Loss')\n",
        "plt.plot(history.history['val_loss'], label='Validation Loss')\n",
        "plt.xlabel('Epochs')\n",
        "plt.ylabel('Loss')\n",
        "plt.legend()\n",
        "plt.show()"
      ],
      "metadata": {
        "colab": {
          "base_uri": "https://localhost:8080/",
          "height": 465
        },
        "id": "IaEPLYDB7j-k",
        "outputId": "a7ed13f7-9c43-4cc1-e9b2-288daa7ff2a3"
      },
      "execution_count": 13,
      "outputs": [
        {
          "output_type": "display_data",
          "data": {
            "text/plain": [
              "<Figure size 640x480 with 1 Axes>"
            ],
            "image/png": "[encoded data removed]"
          },
          "metadata": {}
        }
      ]
    },
    {
      "cell_type": "markdown",
      "source": [
        "# **Model Performance**\n",
        "Both the training loss and validation loss are steadily decreasing over epochs, it indicates that the model is learning effectively and generalizing well to the unseen validation data. Here's a detailed breakdown of what this means:\n",
        "\n",
        "* **Training Loss:**\n",
        "\n",
        "* The model is improving its ability to predict the target variable (car sale price) on the training data.\n",
        "\n",
        "* A consistent decrease in training loss means the model is successfully identifying patterns and minimizing errors in the training dataset.\n",
        "\n",
        "* **Validation Loss:**\n",
        "\n",
        "* The model is not just memorizing the training data but is also performing better on the unseen validation data.\n",
        "\n",
        "* This indicates that the model is generalizing well, which is essential for its performance on test data.\n",
        "\n",
        "**Why This is Good**\n",
        "\n",
        "1. **No Overfitting:** Validation loss decreases along with training loss, it means the model is not overfitting to the training data. Overfitting occurs when the model performs well on training data but poorly on validation or test data.\n",
        "\n",
        "2. **Convergence:**\n",
        " The decreasing loss suggests that the optimizer is effectively adjusting the model weights and biases to minimize the error.\n"
      ],
      "metadata": {
        "id": "UBuhkFxDFSJ5"
      }
    },
    {
      "cell_type": "code",
      "source": [],
      "metadata": {
        "id": "D48mUql07tBr"
      },
      "execution_count": null,
      "outputs": []
    }
  ]
}